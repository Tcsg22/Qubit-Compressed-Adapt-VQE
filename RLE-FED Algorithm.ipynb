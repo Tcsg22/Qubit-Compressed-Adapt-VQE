{
 "cells": [
  {
   "cell_type": "markdown",
   "id": "686198af-ef30-4de0-ae26-ff6fe78ca6b2",
   "metadata": {
    "collapsed": false,
    "jupyter": {
     "outputs_hidden": false
    }
   },
   "source": [
    "# The RLE-FED Algorithm \n",
    "by Man Hei (Thomas) Cheng @ Imperial College London\n",
    "\n",
    "## Introduction: \n",
    "\n",
    "In this notebook, we will demonstrate the use case of the Randomized Linear Encoder (RLE) and Fermionic Expectation Decoder (FED).\n",
    "\n",
    "On top of that, we also provide a very concise code for plane molecule generation using PySCF, and exact diagonalisation.\n",
    "\n",
    "## $\\text{LiH}$ demo: \n",
    "Following is the illustrative compression of the LiH molecule $8$ modes compressed to $6$ qubits: \n",
    "\n",
    "### The RLE algorithm:\n",
    "\n",
    "RLE begins its random search by choosing a $Q$ within the bounded region $N\\log_2 M < Q < 2N\\log_2 M$, with $M$ the fermionic modes and $N$ the number of electrons. Then, the algorithm initializes the parity check matrix $\\mathbf{G} = [I_Q | D]$, where $I_Q$ is a $Q \\times Q$ identity matrix. The form of $\\mathbf{G}$ is known as the standard basis and it helps reduce the space of randomized search. We randomly generate the $Q \\times (M-Q)$ matrix $D$ such that each column has even Hamming weight equal to the value $Q/2$, denoted as $\\text{even}(Q/2)$.\n",
    "\n",
    "$$\n",
    "\\vec{k} = \\mathbf{C}\\vec{v}, \\vec{v}\\in S\n",
    "$$\n",
    "\n",
    "where $S$ is defined as the set of all vectors with Hamming weight $2$ and $2K$ for $2K<N$, where $K$ is a randomly generated integer. The random check serves to maximize the probability of obtaining the correct encoder. Finally, the algorithm explicitly computes the states to check for repetitions. This process is repeated until the minimum $Q$ is found."
   ]
  },
  {
   "cell_type": "code",
   "execution_count": 1,
   "id": "a5397fa8-fb32-40b6-8803-ce634dd84529",
   "metadata": {
    "collapsed": false,
    "jupyter": {
     "outputs_hidden": false
    }
   },
   "outputs": [
    {
     "name": "stdout",
     "output_type": "stream",
     "text": [
      "converged SCF energy = -7.7708736692219\n",
      "gs:  -7.823254150880832\n",
      "0 0\n",
      "Injectivity:  28 28 1.0\n",
      "{'111100': '00000011', '011001': '00000101', '100101': '00000110', '011010': '00001001', '100110': '00001010', '000011': '00001100', '011100': '00010001', '100000': '00010010', '000101': '00010100', '000110': '00011000', '010000': '00100001', '101100': '00100010', '001001': '00100100', '001010': '00101000', '001100': '00110000', '001000': '01000001', '110100': '01000010', '010001': '01000100', '010010': '01001000', '010100': '01010000', '011000': '01100000', '111000': '10000001', '000100': '10000010', '100001': '10000100', '100010': '10001000', '100100': '10010000', '101000': '10100000', '110000': '11000000', '000000': '00000000', '000001': '00000100', '000010': '00001000', '111101': '00000111', '111110': '00001011', '011011': '00001101', '100111': '00001110', '011101': '00010101', '011110': '00011001', '000111': '00011100', '101101': '00100110', '101110': '00101010', '001011': '00101100', '001101': '00110100', '001110': '00111000', '110101': '01000110', '110110': '01001010', '010011': '01001100', '010101': '01010100', '010110': '01011000', '111001': '10000101', '111010': '10001001', '100011': '10001100', '101001': '10100100', '101010': '10101000', '110001': '11000100', '110010': '11001000', '111111': '00001111', '011111': '00011101', '101111': '00101110', '001111': '00111100', '110111': '01001110', '010111': '01011100', '111011': '10001101', '101011': '10101100', '110011': '11001100'}\n"
     ]
    }
   ],
   "source": [
    "import numpy as np\n",
    "import diag as d\n",
    "import RLE as r\n",
    "import FED as fed\n",
    "#generate LiH molecule\n",
    "dist = np.array([2.5])\n",
    "atoms = ['Li', 'H']\n",
    "Rs = np.array([1, 0])\n",
    "thetas = [0, 0]\n",
    "basis = 'sto-3g'\n",
    "mult = 1\n",
    "\n",
    "# Activate orbitals (ACM, *right?*)\n",
    "orb_choice = [1, 2, 3, 5]\n",
    "\n",
    "#optional fermionic to hardcore bosonic encoding\n",
    "hardcore = 0\n",
    "\n",
    "mols = []\n",
    "for i in dist:\n",
    "    R = i*Rs\n",
    "    mols.append(d.plane_molecule(atoms, R, thetas, basis, mult))\n",
    "\n",
    "\n",
    "#The number of selected fermionic modes\n",
    "M = len(orb_choice)*2\n",
    "\n",
    "#The number of electrons\n",
    "N = mols[0].nelectron-2*orb_choice[0]\n",
    "\n",
    "#The encoded qubits\n",
    "Q = 6\n",
    "\n",
    "#Ground State Energy -- optional\n",
    "basis = d.new_hot(mols[0], orb_choice[0], orb_choice, hardcore)\n",
    "functions = [[d.compute_integrals, d.get_active_space_integrals, basis]]\n",
    "\n",
    "#get energy, ground state and the optional meanfield object.\n",
    "ene, gs, MF= d.spectrum(mols, functions, orb_choice[0], orb_choice)\n",
    "print('gs: ', ene[0][0])\n",
    "\n",
    "#generate encoder\n",
    "B = r.encoder(M, N, Q)\n",
    "\n",
    "#generate look-up-table decoder\n",
    "tableb = fed.look_up_parity(M, 2*N+1, N, B)\n",
    "\n",
    "#Store decoding information as dictionary.\n",
    "print(tableb)\n",
    "\n",
    "#we try this one first."
   ]
  },
  {
   "cell_type": "markdown",
   "id": "9d73821f-7a73-4f40-a903-01739fee549e",
   "metadata": {
    "collapsed": false,
    "jupyter": {
     "outputs_hidden": false
    }
   },
   "source": [
    "#### Remark: \n",
    "\n",
    "The RLE algorithm is intrinsically non-scalable with respect to the number of electrons -- namely $O(M^N)$ with $M$ the number of fermionic modes and $N$ the number of electrons. Its associated decoder -- the look-up-table decoder -- is also not scalable. However, this problem can be circumvented with the Gallager's LDPC encoder-decoder where the corresponding encoder-decoder process are performed in polynomial time.\n",
    "\n",
    "### The FED algorithm:\n",
    "\n",
    "Next, we demonstrate how to decode the energy expectation value with the FED algorithm. The FED itself is encoder-decoder agnostic, which means that it can adopt any existing encoding-decoding scheme to fermionic simulation.\n",
    "\n",
    "What follows is the workflow of the FED algorithm. First, we introduce the basic variables required to compute the fermionic expectation value under our FED algorithm. First, we need the first, second electronic integrals with the frozen core energy given by `integrals`. From `integrals`, we compute `base` which contains the indices of the non-zero RDM elements, which we will measure in the quantum computer. From `base`, we obtain the `groups` data. `groups` contains information of all distinct measurement bases prepared for the quantum experiment, and all RDM operators which require measurement. \n",
    "\n",
    "We note that although `compute` contains redundant RDM terms, it is necessary for computing the correct energy because the numerical first and second electronic integrals do not exactly follow the integral symmetries. That is, for example $g_{ijkl}\\sim g_{jikl}$. Meanwhile, from the `groups` object, which contains the necessary RDMs to measure on the quantum computer, we can compute the information of the measurement basis from `B` and `ustrings`, the anti-symmetry sign of each RDM values under the fermionic-to-qubit mapping `signs = fed.glob_sign(groups, M)`.\n",
    "\n",
    "Finally, after the quantum experiment, we typically obtain a set of histograms `hists`, from which we can finally calculate the RDM expectation values $\\langle \\hat{a}^\\dagger_i\\hat{a}^\\dagger_j\\hat{a}_k\\hat{a}_l\\rangle$ and $\\langle\\hat{a}^\\dagger_i\\hat{a}_j\\rangle$ of a quantum state $|\\psi\\rangle$, using the FED algorithm `fed.rdm_val`. The energy expectation is then given by the  energy formula $\\sum_{ij}h_{ij}\\langle\\hat{a}^\\dagger_i\\hat{a}_j\\rangle+\\frac{1}{2}\\sum_{ijkl}g_{ijkl}\\langle \\hat{a}^\\dagger_i\\hat{a}^\\dagger_j\\hat{a}_k\\hat{a}_l\\rangle$.\n",
    "\n",
    "In this example, we benchmark the energy function with the ground state energy of LiH solved from exact diagonalisation previously with the function `fed.hist_format`. This function computes the histograms obtained from different measurement bases of a real time quantum computer generated by `groups = fed.measurement_group(compute)`. Meanwhile, the `fed.rdm_val` takes the look up table decoder `tableb` generated from the previous section for decoding the fermionic information from the histograms `hists`. \n",
    "\n",
    "While in our demonstration the use of `tableb` decoder requires $\\mathcal{O}(M^N)$ memory, in practice this can be immediately (ACM, *?*) with a LDPC decoder provided that the encoder `B` is an LDPC matrix."
   ]
  },
  {
   "cell_type": "code",
   "execution_count": 2,
   "id": "049921a9-927c-4d4c-84f5-3dab4205b1cb",
   "metadata": {
    "collapsed": false,
    "jupyter": {
     "outputs_hidden": false
    }
   },
   "outputs": [
    {
     "name": "stdout",
     "output_type": "stream",
     "text": [
      "converged SCF energy = -7.77087366922191\n",
      "from partial RDM:  -7.823254150880836\n"
     ]
    }
   ],
   "source": [
    "'compute integrals and PySCF meanfield object'\n",
    "stuff, MF= d.integrals(mols, functions, orb_choice)\n",
    "\n",
    "naos = np.arange(mols[0].nao)\n",
    "\n",
    "#calculate all non-zero contributions of the RDM, neglecting RDM symmetries\n",
    "base = fed.Indices(stuff[0], threshold = 10**-12)\n",
    "\n",
    "#compute groups (ACM, *right?*)\n",
    "compute = fed.RDM_grouper(base)\n",
    "#determines the measurement groups\n",
    "groups = fed.measurement_group(compute)\n",
    "\n",
    "#compute x-string\n",
    "ustrings = fed.xfunc(groups, np.identity(M))\n",
    "signs = fed.glob_sign(groups, M)\n",
    "\n",
    "#Generate histrogram from ground state -- to mimick what we measured from quantum computer\n",
    "hists = fed.hist_format(gs[0][0], basis, B, ustrings)\n",
    "\n",
    "#From the histogram, we calculate the rdm values\n",
    "da, ddaa, Vals= fed.rdm_val(hists, tableb, groups, signs, B, hardcore)\n",
    "\n",
    "one = stuff[0][0]\n",
    "two = stuff[0][1]\n",
    "core = stuff[0][2]\n",
    "\n",
    "print('from partial RDM: ', np.tensordot(one, da, axes=((0,1), (0,1)))+1/2*np.tensordot(two, ddaa, axes=((0,1,2,3), (0,1,2,3)))+MF[0].energy_nuc()+core)"
   ]
  },
  {
   "cell_type": "markdown",
   "id": "02ea3c71-10cd-4fa5-b178-5afe1c5f301f",
   "metadata": {
    "collapsed": false,
    "jupyter": {
     "outputs_hidden": false
    }
   },
   "source": [
    "#### Remark:\n",
    "With the energy function in hand, one can design the cost function for a VQE simulation. The routine of the cost function involves histogram sampling and decoding with the FED algorithm for the expectation values. In the LiH example, the number of measurement bases is $25$. It means that each query of the energy function requires $25$ measurements. Compared to non-linear compression, $25$ is a significantly more managable number. \n",
    "\n",
    "To ensure the correctness of this protocol, we also benchmark it against the actual RDM values as follow:"
   ]
  },
  {
   "cell_type": "code",
   "execution_count": 3,
   "id": "30f7476c-8573-4efd-a3d9-6b164444d578",
   "metadata": {
    "collapsed": false,
    "jupyter": {
     "outputs_hidden": false
    }
   },
   "outputs": [
    {
     "name": "stdout",
     "output_type": "stream",
     "text": [
      "converged SCF energy = -7.77087366922191\n",
      "from RDM:  -7.823254150880832\n"
     ]
    }
   ],
   "source": [
    "'Double check another one.'\n",
    "ada = d.RDM1(gs[0][0], basis)\n",
    "\n",
    "ddaa = d.RDM2(gs[0][0], basis)\n",
    "\n",
    "\n",
    "'need to compute the integrals.'\n",
    "stuff, MF = d.integrals(mols, functions, orb_choice)\n",
    "\n",
    "one = stuff[0][0]\n",
    "two = stuff[0][1]\n",
    "core = stuff[0][2]\n",
    "\n",
    "\n",
    "print('from RDM: ', np.tensordot(one, ada, axes=((0,1), (0,1)))+1/2*np.tensordot(two, ddaa, axes=((0,1,2,3), (0,1,2,3)))+MF[0].energy_nuc()+core)\n",
    "\n",
    "\n",
    "for i in zip(groups, Vals):\n",
    "    for index, j in enumerate(i[0]):\n",
    "        if len(j) == 2:\n",
    "            \n",
    "            if np.abs((np.abs(da[j[0], j[1]])-np.abs(i[1][index])))>1e-15:\n",
    "                print('1-RDM: ', j, ada[j[0], j[1]], i[1][index])\n",
    "                \n",
    "        if len(j) == 4:\n",
    "            if np.abs((np.abs(ddaa[j[0], j[1], j[2], j[3]])-np.abs(i[1][index])))>1e-10:\n",
    "                print('2-RDM: ', j, ddaa[j[0], j[1], j[2], j[3]], i[1][index])\n"
   ]
  },
  {
   "cell_type": "markdown",
   "id": "ee212696-3d81-40c9-a9e9-015615a15f00",
   "metadata": {
    "collapsed": false,
    "jupyter": {
     "outputs_hidden": false
    }
   },
   "source": [
    "#### Remark:\n",
    "\n",
    "From the FED algorithm, we can efficiently decode the partial 1-RDM and 2-RDM terms `da` and `ddaa` which are responsible for the energy contribution. Consequently, one can design algorithms, such as VQE, which makes use of the RDMs observables. For example, in our benchmark we design the cost function calculator. \n",
    "\n",
    "For specification, we use qiskit 0.45.1 for demonstration. In what follow, we provide an example code for the energy cost function for $\\text{LiH}$ using a noiseless Aer sampler. \n",
    "\n",
    "### Cost Function:\n",
    "\n",
    "With the decoder able to correctly decode the histogram generated from the ground state, we develop the `circuit_energy` function which calculates the fermionic Hamiltonian energy by decoding the basis of the encoded operator $|{\\vec{a}}\\rangle\\langle{\\vec{b}}|+|{\\vec{b}}\\rangle\\langle{\\vec{a}}|$ instead of Pauli decomposition which is deemed unscalable. We provide an example of energy  "
   ]
  },
  {
   "cell_type": "code",
   "execution_count": 4,
   "id": "11aa1dc2-8210-4871-bb9d-a8d392c1e899",
   "metadata": {
    "collapsed": false,
    "jupyter": {
     "outputs_hidden": false
    }
   },
   "outputs": [],
   "source": [
    "import numpy as np\n",
    "from qiskit_aer import AerProvider\n",
    "from qiskit_aer.backends import AerSimulator\n",
    "from qiskit import QuantumCircuit, ClassicalRegister, QuantumRegister, transpile\n",
    "from qiskit.circuit import ParameterVector"
   ]
  },
  {
   "cell_type": "code",
   "execution_count": 5,
   "id": "7002f290-75b4-4c58-b3a5-8696e441af61",
   "metadata": {
    "collapsed": false,
    "jupyter": {
     "outputs_hidden": false
    }
   },
   "outputs": [
    {
     "name": "stdout",
     "output_type": "stream",
     "text": [
      "[AerSimulator('aer_simulator'), AerSimulator('aer_simulator_statevector'), AerSimulator('aer_simulator_density_matrix'), AerSimulator('aer_simulator_stabilizer'), AerSimulator('aer_simulator_matrix_product_state'), AerSimulator('aer_simulator_extended_stabilizer'), AerSimulator('aer_simulator_unitary'), AerSimulator('aer_simulator_superop'), QasmSimulator('qasm_simulator'), StatevectorSimulator('statevector_simulator'), UnitarySimulator('unitary_simulator')]\n",
      "           ┌───┐    ┌───────────┐\n",
      "hea_0: ────┤ X ├────┤ Ry(gg[0]) ├\n",
      "           ├───┤    ├───────────┤\n",
      "hea_1: ────┤ X ├────┤ Ry(gg[1]) ├\n",
      "       ┌───┴───┴───┐└───────────┘\n",
      "hea_2: ┤ Ry(gg[2]) ├─────────────\n",
      "       ├───────────┤             \n",
      "hea_3: ┤ Ry(gg[3]) ├─────────────\n",
      "       ├───────────┤             \n",
      "hea_4: ┤ Ry(gg[4]) ├─────────────\n",
      "       ├───────────┤             \n",
      "hea_5: ┤ Ry(gg[5]) ├─────────────\n",
      "       └───────────┘             \n"
     ]
    },
    {
     "name": "stderr",
     "output_type": "stream",
     "text": [
      "/tmp/ipykernel_185541/869746353.py:2: DeprecationWarning: The class ``qiskit.providers.provider.Provider`` is deprecated as of qiskit 1.1. It will be removed no earlier than 3 months after the release date. The abstract Provider and ProviderV1 classes are deprecated and will be removed in 2.0. You can just remove it as the parent class and a `get_backend` method that returns the backends from `self.backend`.\n",
      "  backend = AerProvider().backends()[1]\n",
      "/tmp/ipykernel_185541/869746353.py:3: DeprecationWarning: The class ``qiskit.providers.provider.Provider`` is deprecated as of qiskit 1.1. It will be removed no earlier than 3 months after the release date. The abstract Provider and ProviderV1 classes are deprecated and will be removed in 2.0. You can just remove it as the parent class and a `get_backend` method that returns the backends from `self.backend`.\n",
      "  print(AerProvider().backends())\n"
     ]
    },
    {
     "name": "stdout",
     "output_type": "stream",
     "text": [
      "converged SCF energy = -7.77087366922191\n",
      "sampled HF energy:  -7.771019774194969\n",
      "           ┌───┐    ┌───────────┐           ░ ┌───────────┐            ░ »\n",
      "hea_0: ────┤ X ├────┤ Ry(gg[0]) ├──■────────░─┤ Ry(gg[6]) ├───■────────░─»\n",
      "           ├───┤    ├───────────┤┌─┴─┐      ░ ├───────────┤ ┌─┴─┐      ░ »\n",
      "hea_1: ────┤ X ├────┤ Ry(gg[1]) ├┤ X ├──■───░─┤ Ry(gg[7]) ├─┤ X ├──■───░─»\n",
      "       ┌───┴───┴───┐└───────────┘└───┘┌─┴─┐ ░ ├───────────┤ └───┘┌─┴─┐ ░ »\n",
      "hea_2: ┤ Ry(gg[2]) ├──────■───────────┤ X ├─░─┤ Ry(gg[8]) ├───■──┤ X ├─░─»\n",
      "       ├───────────┤    ┌─┴─┐         └───┘ ░ ├───────────┤ ┌─┴─┐└───┘ ░ »\n",
      "hea_3: ┤ Ry(gg[3]) ├────┤ X ├──────■────────░─┤ Ry(gg[9]) ├─┤ X ├──■───░─»\n",
      "       ├───────────┤    └───┘    ┌─┴─┐      ░ ├───────────┴┐└───┘┌─┴─┐ ░ »\n",
      "hea_4: ┤ Ry(gg[4]) ├──────■──────┤ X ├──────░─┤ Ry(gg[10]) ├──■──┤ X ├─░─»\n",
      "       ├───────────┤    ┌─┴─┐    └───┘      ░ ├────────────┤┌─┴─┐└───┘ ░ »\n",
      "hea_5: ┤ Ry(gg[5]) ├────┤ X ├───────────────░─┤ Ry(gg[11]) ├┤ X ├──────░─»\n",
      "       └───────────┘    └───┘               ░ └────────────┘└───┘      ░ »\n",
      "«       ┌────────────┐           ░ ┌────────────┐\n",
      "«hea_0: ┤ Ry(gg[12]) ├──■────────░─┤ Ry(gg[18]) ├\n",
      "«       ├────────────┤┌─┴─┐      ░ ├────────────┤\n",
      "«hea_1: ┤ Ry(gg[13]) ├┤ X ├──■───░─┤ Ry(gg[19]) ├\n",
      "«       ├────────────┤└───┘┌─┴─┐ ░ ├────────────┤\n",
      "«hea_2: ┤ Ry(gg[14]) ├──■──┤ X ├─░─┤ Ry(gg[20]) ├\n",
      "«       ├────────────┤┌─┴─┐└───┘ ░ ├────────────┤\n",
      "«hea_3: ┤ Ry(gg[15]) ├┤ X ├──■───░─┤ Ry(gg[21]) ├\n",
      "«       ├────────────┤└───┘┌─┴─┐ ░ ├────────────┤\n",
      "«hea_4: ┤ Ry(gg[16]) ├──■──┤ X ├─░─┤ Ry(gg[22]) ├\n",
      "«       ├────────────┤┌─┴─┐└───┘ ░ ├────────────┤\n",
      "«hea_5: ┤ Ry(gg[17]) ├┤ X ├──────░─┤ Ry(gg[23]) ├\n",
      "«       └────────────┘└───┘      ░ └────────────┘\n",
      "converged SCF energy = -7.77087366922191\n",
      "HEA circuit energy:  -7.315810246263048\n"
     ]
    },
    {
     "name": "stdout",
     "output_type": "stream",
     "text": [
      "sampled HF energy:  -7.7711428789172\n",
      "           ┌───┐    ┌───────────┐           ░ ┌───────────┐            ░ »\n",
      "hea_0: ────┤ X ├────┤ Ry(gg[0]) ├──■────────░─┤ Ry(gg[6]) ├───■────────░─»\n",
      "           ├───┤    ├───────────┤┌─┴─┐      ░ ├───────────┤ ┌─┴─┐      ░ »\n",
      "hea_1: ────┤ X ├────┤ Ry(gg[1]) ├┤ X ├──■───░─┤ Ry(gg[7]) ├─┤ X ├──■───░─»\n",
      "       ┌───┴───┴───┐└───────────┘└───┘┌─┴─┐ ░ ├───────────┤ └───┘┌─┴─┐ ░ »\n",
      "hea_2: ┤ Ry(gg[2]) ├──────■───────────┤ X ├─░─┤ Ry(gg[8]) ├───■──┤ X ├─░─»\n",
      "       ├───────────┤    ┌─┴─┐         └───┘ ░ ├───────────┤ ┌─┴─┐└───┘ ░ »\n",
      "hea_3: ┤ Ry(gg[3]) ├────┤ X ├──────■────────░─┤ Ry(gg[9]) ├─┤ X ├──■───░─»\n",
      "       ├───────────┤    └───┘    ┌─┴─┐      ░ ├───────────┴┐└───┘┌─┴─┐ ░ »\n",
      "hea_4: ┤ Ry(gg[4]) ├──────■──────┤ X ├──────░─┤ Ry(gg[10]) ├──■──┤ X ├─░─»\n",
      "       ├───────────┤    ┌─┴─┐    └───┘      ░ ├────────────┤┌─┴─┐└───┘ ░ »\n",
      "hea_5: ┤ Ry(gg[5]) ├────┤ X ├───────────────░─┤ Ry(gg[11]) ├┤ X ├──────░─»\n",
      "       └───────────┘    └───┘               ░ └────────────┘└───┘      ░ »\n",
      "«       ┌────────────┐           ░ ┌────────────┐\n",
      "«hea_0: ┤ Ry(gg[12]) ├──■────────░─┤ Ry(gg[18]) ├\n",
      "«       ├────────────┤┌─┴─┐      ░ ├────────────┤\n",
      "«hea_1: ┤ Ry(gg[13]) ├┤ X ├──■───░─┤ Ry(gg[19]) ├\n",
      "«       ├────────────┤└───┘┌─┴─┐ ░ ├────────────┤\n",
      "«hea_2: ┤ Ry(gg[14]) ├──■──┤ X ├─░─┤ Ry(gg[20]) ├\n",
      "«       ├────────────┤┌─┴─┐└───┘ ░ ├────────────┤\n",
      "«hea_3: ┤ Ry(gg[15]) ├┤ X ├──■───░─┤ Ry(gg[21]) ├\n",
      "«       ├────────────┤└───┘┌─┴─┐ ░ ├────────────┤\n",
      "«hea_4: ┤ Ry(gg[16]) ├──■──┤ X ├─░─┤ Ry(gg[22]) ├\n",
      "«       ├────────────┤┌─┴─┐└───┘ ░ ├────────────┤\n",
      "«hea_5: ┤ Ry(gg[17]) ├┤ X ├──────░─┤ Ry(gg[23]) ├\n",
      "«       └────────────┘└───┘      ░ └────────────┘\n"
     ]
    },
    {
     "name": "stdout",
     "output_type": "stream",
     "text": [
      "converged SCF energy = -7.7708736692219\n"
     ]
    },
    {
     "name": "stdout",
     "output_type": "stream",
     "text": [
      "HEA circuit energy:  -7.438996248680604\n"
     ]
    }
   ],
   "source": [
    "#prepare backend\n",
    "backend = AerProvider().backends()[1]\n",
    "print(AerProvider().backends())\n",
    "backend = AerSimulator(method = 'density_matrix')\n",
    "backend.shots = 100000\n",
    "\n",
    "def sample(backend, circuit, layout, correction, count = 0):\n",
    "    '''\n",
    "    sample quantum circuit state distribution\n",
    "    \n",
    "    Parameters\n",
    "    ----------\n",
    "    circuit: qiskit circuit (no params)\n",
    "    \n",
    "    Returns\n",
    "    -------\n",
    "    dictionary of probability distribution\n",
    "    \n",
    "    '''\n",
    "    val = backend.shots\n",
    "    job = backend.run(circuit, shots = int(val))\n",
    "    counts = job.result().get_counts()\n",
    "    # evaluate probabilities\n",
    "    shots = sum(counts.values())\n",
    "    prob = {b: c/shots for b, c in counts.items()}    \n",
    "    return prob \n",
    "\n",
    "def clifford_basis(circuit, xstrings):\n",
    "    '''\n",
    "    Generate measurement basis\n",
    "    '''\n",
    "\n",
    "    circuits = []\n",
    "    \n",
    "    for xstring in xstrings:\n",
    "        cop = circuit.copy()\n",
    "        count = 0\n",
    "        cnot = []\n",
    "        h = []\n",
    "        for index, i in enumerate(xstring):\n",
    "            if (i == 1) and count == 0:\n",
    "                mem = index\n",
    "                count=1\n",
    "                h.append(index)\n",
    "            elif (i == 1) and count:\n",
    "                #print(mem, index)\n",
    "                cnot.append((mem, index))\n",
    "                mem = index\n",
    "        cnot = cnot[::-1]\n",
    "        for (i,j) in cnot:\n",
    "            cop.cx(i, j)\n",
    "        for i in h:\n",
    "            cop.h(i)\n",
    "        cop.measure_all()\n",
    "        circuits.append(cop)\n",
    "    return circuits\n",
    "\n",
    "def circuit_energy(params, mf, inte, backend, circuit, xstrings, table, groups, signs, A, save = 0):\n",
    "    '''\n",
    "    Circuit energy only via the sampling means.\n",
    "\n",
    "    Input:\n",
    "    ------\n",
    "    mf: PySCF meanfield object.\n",
    "\n",
    "    inte: core energy plus electronic integrals\n",
    "    \n",
    "    circuit: qiskit circuit.\n",
    "\n",
    "    params: the parameters to combine. \n",
    "\n",
    "    xstrings: the encoded Pauli-x strings for the preparation of Clifford measurement basis.\n",
    "\n",
    "    table: look-up-table decoder replacable by classical decoder.    \n",
    "\n",
    "    groups: measurement groups for decoding.\n",
    "\n",
    "    signs: global fermionic signs \n",
    "\n",
    "    Output:\n",
    "    -------\n",
    "    energy: the energy\n",
    "    '''\n",
    "\n",
    "    'First step: you will just need circuit and assign_parameters'\n",
    "    \n",
    "    circuit = circuit.assign_parameters(params)\n",
    "\n",
    "    \n",
    "    circuits = clifford_basis(circuit, xstrings)\n",
    "\n",
    "    'Those circuits could be wrong.'\n",
    "\n",
    "\n",
    "    'In here, you must sample each of them, where we will need our backend information.'\n",
    "\n",
    "    'prioritize sampling'\n",
    "    hists = []\n",
    "    data = []\n",
    "    'check one stats'\n",
    "    #count = 0\n",
    "\n",
    "    'This part takes most of the time.'\n",
    "    for circuit in circuits:\n",
    "        stats = sample(backend, circuit, None, correction = 0, count = 0)\n",
    "        keys = []\n",
    "        \n",
    "        for i in stats.keys():\n",
    "            keys.append(i[::-1])\n",
    "        stats = dict(map(lambda i,j : (i,j) , keys,stats.values()))\n",
    "\n",
    "        #if count == 0:\n",
    "            #stats = dict(sorted(stats.items(), key=lambda item: toint(item[0])))\n",
    "            #example.append(stats)\n",
    "                    \n",
    "        'save your data'\n",
    "        if save == 1:\n",
    "            save = data_stuff()\n",
    "            save.write_dict('stats', stats)\n",
    "\n",
    "        hists.append(stats)\n",
    "        data.append(save)\n",
    "        \n",
    "    'we need to reverse the histogram I think.'\n",
    "    \n",
    "    da, ddaa, Vals = fed.rdm_val(hists, table, groups, signs, A, 0)\n",
    "\n",
    "    \n",
    "    one = inte[0]\n",
    "    two = inte[1]\n",
    "    core = inte[2]\n",
    "    e = np.tensordot(one, da, axes=((0,1), (0,1)))+1/2*np.tensordot(two, ddaa, axes=((0,1,2,3), (0,1,2,3)))+MF[0].energy_nuc()+core\n",
    "    return e\n",
    "\n",
    "\n",
    "def makecircuit(init, cnot, reps, name = 'gg', HF = 0, sing = 1):\n",
    "\n",
    "    '''\n",
    "    Make your hardware efficient quantum circuit.\n",
    "    \n",
    "    Input:\n",
    "    ------\n",
    "    orb: orbital number of your choice\n",
    "\n",
    "    e: electron number after freeze\n",
    "\n",
    "    A: encoder\n",
    "\n",
    "    cnot: your onfiguration of cnot layer\n",
    "\n",
    "    rep: the number of circuit repetition\n",
    "    '''\n",
    "    #that is the problem. \n",
    "\n",
    "    n=init.num_qubits\n",
    "    param = ParameterVector(name,int(n*reps)+n*sing)\n",
    "    t=0\n",
    "    for l in range(reps):\n",
    "        for i in range(n):\n",
    "            init.ry(param[t],i)\n",
    "            t+=1\n",
    "        for (i, j) in cnot:\n",
    "            init.cx(i,j)\n",
    "        init.barrier()\n",
    "    if sing == 1:\n",
    "        for i in range(n):\n",
    "            init.ry(param[t],i)  \n",
    "            t+=1\n",
    "    return init     \n",
    "\n",
    "\n",
    "HF = np.array([1, 1, 0, 0, 0, 0, 0, 0])\n",
    "HF = B@HF\n",
    "\n",
    "odd = []\n",
    "even = []\n",
    "n = 6\n",
    "\n",
    "'One layer for demonstration'\n",
    "reps = 0\n",
    "for i in range(n//2):\n",
    "    'odd'\n",
    "    odd.append((2*i, 2*i+1))\n",
    "    even.append((2*i+1, 2*i+2))\n",
    "if n%2 == 0:\n",
    "    even.pop()\n",
    "cnot = odd+even\n",
    "\n",
    "\n",
    "qr = QuantumRegister(len(HF), name = 'hea')\n",
    "init = QuantumCircuit(qr)\n",
    "init.x(0)\n",
    "init.x(1)\n",
    "cir = makecircuit(init, cnot, reps)\n",
    "\n",
    "print(cir)\n",
    "\n",
    "params = np.random.normal(0, 2*np.pi, len(cir.parameters))*0\n",
    "inte, MF = d.integrals(mols, functions, orb_choice)\n",
    "\n",
    "xstrings = fed.xfunc(groups, B)\n",
    "\n",
    "'circuit energy by sampling -- test Hartree-Fock energy to show that it matches'\n",
    "print('sampled HF energy: ', circuit_energy(params, MF[0], inte[0], backend, cir,  xstrings, tableb, groups, signs, B))\n",
    "\n",
    "\n",
    "HF = np.array([1, 1, 0, 0, 0, 0, 0, 0])\n",
    "HF = B@HF\n",
    "\n",
    "odd = []\n",
    "even = []\n",
    "n = 6\n",
    "\n",
    "'One layer for demonstration'\n",
    "reps = 3\n",
    "for i in range(n//2):\n",
    "    'odd'\n",
    "    odd.append((2*i, 2*i+1))\n",
    "    even.append((2*i+1, 2*i+2))\n",
    "if n%2 == 0:\n",
    "    even.pop()\n",
    "cnot = odd+even\n",
    "\n",
    "\n",
    "qr = QuantumRegister(len(HF), name = 'hea')\n",
    "init = QuantumCircuit(qr)\n",
    "init.x(0)\n",
    "init.x(1)\n",
    "cir = makecircuit(init, cnot, reps)\n",
    "\n",
    "print(cir)\n",
    "\n",
    "params = np.random.normal(0, 2*np.pi, len(cir.parameters))\n",
    "inte, MF = d.integrals(mols, functions, orb_choice)\n",
    "\n",
    "xstrings = fed.xfunc(groups, B)\n",
    "\n",
    "'benchmark circuit energy against state-vector method'\n",
    "print('HEA circuit energy: ', circuit_energy(params, MF[0], inte[0], backend, cir,  xstrings, tableb, groups, signs, B))"
   ]
  },
  {
   "cell_type": "markdown",
   "id": "d60b022e-c1cb-45e0-99fc-896f5a6add63",
   "metadata": {
    "collapsed": false,
    "jupyter": {
     "outputs_hidden": false
    }
   },
   "source": [
    "To test that the `circuit_energy` function works, we further benchmark it against state_vector energy without sampling, `Simple_Vec`. `Simple_Vec` gives the correct numerical energy via matrix contraction. As we can see, the `circuit_energy` "
   ]
  },
  {
   "cell_type": "code",
   "execution_count": 6,
   "id": "5e4c122a-59d4-41a3-8339-d2e02c6f3541",
   "metadata": {
    "collapsed": false,
    "jupyter": {
     "outputs_hidden": false
    }
   },
   "outputs": [
    {
     "name": "stdout",
     "output_type": "stream",
     "text": [
      "Exact HEA numerical energy:  -7.31509250516266\n"
     ]
    }
   ],
   "source": [
    "def to2(num, M):\n",
    "\n",
    "    s = []\n",
    "    while num:\n",
    "        s.append(num % 2)\n",
    "        num = num // 2\n",
    "\n",
    "    additional_zeros = [0] * (M - len(s))\n",
    "    m = np.array(s + additional_zeros, dtype = int)\n",
    "    #m = ''.join(np.array(s + additional_zeros, dtype = str))\n",
    "    return m\n",
    "\n",
    "def Simple_Vec(params, mf, core, circuit, table, form, mat):\n",
    "    '''\n",
    "    Vector energy: You will need one table for decoding, and one table for mapping to the matrix format\n",
    "\n",
    "    In:\n",
    "    ---\n",
    "    table: send compressed strings to uncompressed ones\n",
    "\n",
    "    form: send uncompressed string to the matrix coordinate in the subspace Hamiltonian.\n",
    "    '''\n",
    "\n",
    "    circuit = circuit.assign_parameters(params)\n",
    "    \n",
    "    circuit.save_density_matrix(label=\"rho\", conditional=True)\n",
    "    \n",
    "    circuit = transpile(circuit, backend)\n",
    "    job = backend.run(circuit)\n",
    "    result = job.result()\n",
    "\n",
    "    rho = result.data()['rho'][''].data\n",
    "    basis = []\n",
    "    for i in range(len(rho)):\n",
    "        key = ''.join(np.array(to2(i, circuit.num_qubits), dtype = str))\n",
    "        basis.append(form[fed.str_decode(key, table)])\n",
    "\n",
    "    newrho = np.zeros((mat.shape[0], mat.shape[0]))\n",
    "    for index, i in enumerate(basis):\n",
    "        for jndex, j in enumerate(basis):\n",
    "            newrho[i][j] = rho[index][jndex].real\n",
    "\n",
    "    something = newrho@mat\n",
    "    return np.trace(something)+core+mf.energy_nuc()\n",
    "\n",
    "\n",
    "#get linearly compressed Hamiltonian in matrix form \n",
    "\n",
    "\n",
    "#the following is to map binary basis to the integer indices of mat.\n",
    "mat_basis = tableb.values()\n",
    "\n",
    "opt_basis = []\n",
    "for i in mat_basis:\n",
    "    opt_basis.append(np.array(list(i), dtype = int))\n",
    "    \n",
    "#define a second dictionary.\n",
    "stuff = list(zip(np.arange(len(mat_basis)), list(mat_basis)))\n",
    "form = dict()\n",
    "for (a, b) in stuff:\n",
    "    form[b] = a\n",
    "\n",
    "mat = d.first_quantised(MF[0].mol, one, two, opt_basis)\n",
    "print('Exact HEA numerical energy: ', Simple_Vec(params, MF[0], core, cir, tableb, form, mat))"
   ]
  },
  {
   "cell_type": "markdown",
   "id": "8a07d892-c13b-4072-a5c2-bd237144c9f3",
   "metadata": {
    "collapsed": false,
    "jupyter": {
     "outputs_hidden": false
    }
   },
   "source": [
    "## $\\text{H}_2\\text{O}$ demo:\n",
    "\n",
    "Next, we provide a further demo on the $12$ modes water molecule compressed to $11$ qubits. In this experiment, while theoretically we could expect that the measuremnet groups to be upper bounded by $\\binom{12}{4}+\\binom{12}{2}+1 =562$, in practice we only need to prepare $212$ measurement groups for one measurement of the water molecule energy, because vast majority of the one and two integrals values are zero."
   ]
  },
  {
   "cell_type": "code",
   "execution_count": 7,
   "id": "3be9e590-be5a-482e-8049-08b9830f589a",
   "metadata": {
    "collapsed": false,
    "jupyter": {
     "outputs_hidden": false
    }
   },
   "outputs": [
    {
     "name": "stdout",
     "output_type": "stream",
     "text": [
      "12 8\n",
      "0 0\n",
      "Injectivity:  495 495 1.0\n",
      "converged SCF energy = -74.9631043332761\n",
      "gs:  -75.0126577040684\n"
     ]
    },
    {
     "name": "stdout",
     "output_type": "stream",
     "text": [
      "gs:  -75.01265770406839\n"
     ]
    }
   ],
   "source": [
    "'H2O example'\n",
    "\n",
    "dist = np.array([0.9584])\n",
    "atoms = ['H', 'O', 'H']\n",
    "Rs = np.array([1, 0, 1])\n",
    "thetas = [0, 0, np.pi*104.5/180]\n",
    "basis = 'sto-3g'\n",
    "mult = 1\n",
    "\n",
    "'approximation: need to test the freezing.'\n",
    "freeze = 1\n",
    "\n",
    "mols = []\n",
    "for i in dist:\n",
    "    R = i*Rs\n",
    "    mols.append(d.plane_molecule(atoms, R, thetas, basis, mult))\n",
    "\n",
    "M = mols[0].nao*2-freeze*2\n",
    "e = mols[0].nelectron-2*freeze\n",
    "print(M, e)\n",
    "\n",
    "Q = 11\n",
    "\n",
    "hardcore = 0\n",
    "\n",
    "\n",
    "M = mols[0].nao*2-freeze*2\n",
    "N = mols[0].nelectron-2*freeze\n",
    "\n",
    "    \n",
    "orb_choice = np.arange(freeze, M//2+freeze)\n",
    "\n",
    "    \n",
    "B = r.encoder(M, N, Q)\n",
    "tableb = fed.look_up_parity(M, M, N, B)\n",
    "\n",
    "#Ground State Energy -- optional\n",
    "basis = d.new_hot(mols[0], orb_choice[0], orb_choice, hardcore)\n",
    "functions = [[d.compute_integrals, d.get_active_space_integrals, basis]]\n",
    "\n",
    "#get energy, ground state and the optional meanfield object.\n",
    "ene, gs, MF= d.spectrum(mols, functions, orb_choice[0], orb_choice)\n",
    "print('gs: ', ene[0][0])\n"
   ]
  },
  {
   "cell_type": "code",
   "execution_count": 8,
   "id": "9eb172a1-ec1b-4c91-95ab-e2ddb2fed5fa",
   "metadata": {
    "collapsed": false,
    "jupyter": {
     "outputs_hidden": false
    }
   },
   "outputs": [
    {
     "name": "stdout",
     "output_type": "stream",
     "text": [
      "converged SCF energy = -74.9631043332761\n",
      "The number of measurement basis:  212\n",
      "converged SCF energy = -74.9631043332761\n",
      "from partial RDM:  -75.01256329894832\n"
     ]
    },
    {
     "name": "stdout",
     "output_type": "stream",
     "text": [
      "converged SCF energy = -74.9631043332761\n"
     ]
    },
    {
     "name": "stdout",
     "output_type": "stream",
     "text": [
      "from partial RDM:  -75.01256329894835\n"
     ]
    }
   ],
   "source": [
    "'compute integrals and PySCF meanfield object'\n",
    "integrals, MF= d.integrals(mols, functions, orb_choice)\n",
    "naos = np.arange(mols[0].nao)\n",
    "\n",
    "base = fed.Indices(integrals[0], threshold = 10**-12)\n",
    "compute = fed.RDM_grouper(base)\n",
    "groups = fed.measurement_group(compute)\n",
    "\n",
    "#The number of distinct measurements required for the experiment.\n",
    "print('The number of measurement basis: ', len(groups))\n",
    "\n",
    "'compute x-string'\n",
    "ustrings = fed.xfunc(groups, np.identity(M))\n",
    "signs = fed.glob_sign(groups, M)\n",
    "\n",
    "hists = fed.hist_format(gs[0][0], basis, B, ustrings)\n",
    "\n",
    "'From the histogram, we calculate the rdm values'\n",
    "da, ddaa, Vals= fed.rdm_val(hists, tableb, groups, signs, B, hardcore)\n",
    "\n",
    "stuff, MF= d.integrals(mols, functions, orb_choice)\n",
    "\n",
    "one = stuff[0][0]\n",
    "two = stuff[0][1]\n",
    "core = stuff[0][2]\n",
    "\n",
    "print('from partial RDM: ', np.tensordot(one, da, axes=((0,1), (0,1)))+1/2*np.tensordot(two, ddaa, axes=((0,1,2,3), (0,1,2,3)))+MF[0].energy_nuc()+core)\n"
   ]
  },
  {
   "cell_type": "code",
   "execution_count": 9,
   "id": "9f95b159-90ca-496b-a073-f9501c04030f",
   "metadata": {
    "collapsed": false,
    "jupyter": {
     "outputs_hidden": false
    }
   },
   "outputs": [
    {
     "name": "stdout",
     "output_type": "stream",
     "text": [
      "converged SCF energy = -74.9631043332761\n",
      "from RDM:  -75.01265770406837\n"
     ]
    }
   ],
   "source": [
    "'Double check another one.'\n",
    "ada = d.RDM1(gs[0][0], basis)\n",
    "ddaa = d.RDM2(gs[0][0], basis)\n",
    "\n",
    "\n",
    "'need to compute the integrals.'\n",
    "stuff, MF = d.integrals(mols, functions, orb_choice)\n",
    "\n",
    "one = stuff[0][0]\n",
    "two = stuff[0][1]\n",
    "core = stuff[0][2]\n",
    "\n",
    "\n",
    "print('from RDM: ', np.tensordot(one, ada, axes=((0,1), (0,1)))+1/2*np.tensordot(two, ddaa, axes=((0,1,2,3), (0,1,2,3)))+MF[0].energy_nuc()+core)"
   ]
  },
  {
   "cell_type": "code",
   "execution_count": 10,
   "id": "4ce6a535-c27e-4641-85aa-dd2ba15cbdc7",
   "metadata": {
    "collapsed": false,
    "jupyter": {
     "outputs_hidden": false
    }
   },
   "outputs": [],
   "source": [
    "'Test H2O rdm'\n",
    "for i in zip(groups, Vals):\n",
    "    for index, j in enumerate(i[0]):\n",
    "        if len(j) == 2:\n",
    "            \n",
    "            if np.abs((np.abs(ada[j[0], j[1]])-np.abs(i[1][index])))>1e-15:\n",
    "                print('1-RDM: ', j, ada[j[0], j[1]], i[1][index])\n",
    "                \n",
    "        if len(j) == 4:\n",
    "            if np.abs((np.abs(ddaa[j[0], j[1], j[2], j[3]])-np.abs(i[1][index])))>1e-10:\n",
    "                print('2-RDM: ', j, ddaa[j[0], j[1], j[2], j[3]], i[1][index])"
   ]
  },
  {
   "cell_type": "markdown",
   "id": "2ec09f93-d139-465d-83a9-65c784ab385f",
   "metadata": {
    "collapsed": false,
    "jupyter": {
     "outputs_hidden": false
    }
   },
   "source": [
    "## Conclusion:\n",
    "\n",
    "We demonstrated our RLE-FED encoding-decoding protocol on the $\\text{LiH}$ molecule. We explicitly show how to make use of a decoder, in this instance, a look-up-table `tableb` to avoid qubit operator decomposition in the encoded space. Resorting to the FED algorithm, we can decode the histograms `hists` from quantum computer before calculating the expectation values. We benchmark the FED algorithm and shows that it can correctly determine the energy of ground state and a randomly parameterized quantum circuit. \n",
    "\n",
    "We also developed the cost function `circuit_energy` that samples, decode and compute the energy from a parameterized quantum circuit (PQC). To sample, the subroutine `clifford_basis` is required to prepare the PQC in different clifford basis corresponding to different RDM observables. Once the set of histograms are obtained, the rest follows. We benchmark the cost function against statevector (density matrix) simulation and show that the energy matches.\n",
    "\n",
    "Finally, we provide a demo on the $11$ qubits water molecule to give a sense of how the measurement basis `groups` scales with the number of qubits. "
   ]
  }
 ],
 "metadata": {
  "kernelspec": {
   "display_name": "rle_fed",
   "language": "python",
   "name": "rle_fed"
  },
  "language_info": {
   "codemirror_mode": {
    "name": "ipython",
    "version": 3
   },
   "file_extension": ".py",
   "mimetype": "text/x-python",
   "name": "python",
   "nbconvert_exporter": "python",
   "pygments_lexer": "ipython3",
   "version": "3.12.4"
  },
  "name": "RLE-FED Algorithm.ipynb"
 },
 "nbformat": 4,
 "nbformat_minor": 5
}
